{
 "cells": [
  {
   "cell_type": "markdown",
   "metadata": {},
   "source": [
    "# Predict GDP of Canada  \n",
    "\n",
    "<hr>"
   ]
  },
  {
   "cell_type": "markdown",
   "metadata": {},
   "source": [
    "## Source of data\n",
    "\n",
    "The \n",
    "<a href='https://data.worldbank.org/indicator/NY.GDP.MKTP.CD?locations=CA'>source</a> \n",
    "of the data used here is the World Bank national accounts data, and OECD National Accounts data files.\n",
    "\n",
    "## GDP (current US$) - Canada\n",
    "\n",
    "GDP at purchaser's prices is the sum of gross value added by all resident producers in the economy plus any product taxes and minus any subsidies not included in the value of the products. It is calculated without making deductions for depreciation of fabricated assets or for depletion and degradation of natural resources. Data are in current U.S. dollars. Dollar figures for GDP are converted from domestic currencies using single year official exchange rates. For a few countries where the official exchange rate does not reflect the rate effectively applied to actual foreign exchange transactions, an alternative conversion factor is used.\n",
    "\n",
    "## What is in this notebook?\n",
    "\n",
    "Here I have created a Regression model from scratch just using numpy module and trained the model to predict GDP (in US$) of Canada."
   ]
  },
  {
   "cell_type": "markdown",
   "metadata": {},
   "source": [
    "<hr>"
   ]
  },
  {
   "cell_type": "code",
   "execution_count": 1,
   "metadata": {},
   "outputs": [
    {
     "data": {
      "text/html": [
       "<div>\n",
       "<style scoped>\n",
       "    .dataframe tbody tr th:only-of-type {\n",
       "        vertical-align: middle;\n",
       "    }\n",
       "\n",
       "    .dataframe tbody tr th {\n",
       "        vertical-align: top;\n",
       "    }\n",
       "\n",
       "    .dataframe thead th {\n",
       "        text-align: right;\n",
       "    }\n",
       "</style>\n",
       "<table border=\"1\" class=\"dataframe\">\n",
       "  <thead>\n",
       "    <tr style=\"text-align: right;\">\n",
       "      <th></th>\n",
       "      <th>year</th>\n",
       "      <th>per capita income (US$)</th>\n",
       "    </tr>\n",
       "  </thead>\n",
       "  <tbody>\n",
       "    <tr>\n",
       "      <th>0</th>\n",
       "      <td>1970</td>\n",
       "      <td>3399.299037</td>\n",
       "    </tr>\n",
       "    <tr>\n",
       "      <th>1</th>\n",
       "      <td>1971</td>\n",
       "      <td>3768.297935</td>\n",
       "    </tr>\n",
       "    <tr>\n",
       "      <th>2</th>\n",
       "      <td>1972</td>\n",
       "      <td>4251.175484</td>\n",
       "    </tr>\n",
       "    <tr>\n",
       "      <th>3</th>\n",
       "      <td>1973</td>\n",
       "      <td>4804.463248</td>\n",
       "    </tr>\n",
       "    <tr>\n",
       "      <th>4</th>\n",
       "      <td>1974</td>\n",
       "      <td>5576.514583</td>\n",
       "    </tr>\n",
       "  </tbody>\n",
       "</table>\n",
       "</div>"
      ],
      "text/plain": [
       "   year  per capita income (US$)\n",
       "0  1970              3399.299037\n",
       "1  1971              3768.297935\n",
       "2  1972              4251.175484\n",
       "3  1973              4804.463248\n",
       "4  1974              5576.514583"
      ]
     },
     "execution_count": 1,
     "metadata": {},
     "output_type": "execute_result"
    }
   ],
   "source": [
    "import numpy as np\n",
    "import pandas as pd\n",
    "import seaborn as sns\n",
    "import matplotlib.pyplot as plt\n",
    "\n",
    "%matplotlib inline\n",
    "\n",
    "pd.set_option('display.max_rows', None)\n",
    "pd.set_option('display.max_columns', None)\n",
    "\n",
    "df = pd.read_csv('data.csv')\n",
    "df.head()"
   ]
  },
  {
   "cell_type": "code",
   "execution_count": 2,
   "metadata": {},
   "outputs": [
    {
     "data": {
      "text/html": [
       "<div>\n",
       "<style scoped>\n",
       "    .dataframe tbody tr th:only-of-type {\n",
       "        vertical-align: middle;\n",
       "    }\n",
       "\n",
       "    .dataframe tbody tr th {\n",
       "        vertical-align: top;\n",
       "    }\n",
       "\n",
       "    .dataframe thead th {\n",
       "        text-align: right;\n",
       "    }\n",
       "</style>\n",
       "<table border=\"1\" class=\"dataframe\">\n",
       "  <thead>\n",
       "    <tr style=\"text-align: right;\">\n",
       "      <th></th>\n",
       "      <th>year</th>\n",
       "      <th>per capita income (US$)</th>\n",
       "    </tr>\n",
       "  </thead>\n",
       "  <tbody>\n",
       "    <tr>\n",
       "      <th>count</th>\n",
       "      <td>47.000000</td>\n",
       "      <td>47.000000</td>\n",
       "    </tr>\n",
       "    <tr>\n",
       "      <th>mean</th>\n",
       "      <td>1993.000000</td>\n",
       "      <td>18920.137063</td>\n",
       "    </tr>\n",
       "    <tr>\n",
       "      <th>std</th>\n",
       "      <td>13.711309</td>\n",
       "      <td>12034.679438</td>\n",
       "    </tr>\n",
       "    <tr>\n",
       "      <th>min</th>\n",
       "      <td>1970.000000</td>\n",
       "      <td>3399.299037</td>\n",
       "    </tr>\n",
       "    <tr>\n",
       "      <th>25%</th>\n",
       "      <td>1981.500000</td>\n",
       "      <td>9526.914515</td>\n",
       "    </tr>\n",
       "    <tr>\n",
       "      <th>50%</th>\n",
       "      <td>1993.000000</td>\n",
       "      <td>16426.725480</td>\n",
       "    </tr>\n",
       "    <tr>\n",
       "      <th>75%</th>\n",
       "      <td>2004.500000</td>\n",
       "      <td>27458.601420</td>\n",
       "    </tr>\n",
       "    <tr>\n",
       "      <th>max</th>\n",
       "      <td>2016.000000</td>\n",
       "      <td>42676.468370</td>\n",
       "    </tr>\n",
       "  </tbody>\n",
       "</table>\n",
       "</div>"
      ],
      "text/plain": [
       "              year  per capita income (US$)\n",
       "count    47.000000                47.000000\n",
       "mean   1993.000000             18920.137063\n",
       "std      13.711309             12034.679438\n",
       "min    1970.000000              3399.299037\n",
       "25%    1981.500000              9526.914515\n",
       "50%    1993.000000             16426.725480\n",
       "75%    2004.500000             27458.601420\n",
       "max    2016.000000             42676.468370"
      ]
     },
     "execution_count": 2,
     "metadata": {},
     "output_type": "execute_result"
    }
   ],
   "source": [
    "df.describe()"
   ]
  },
  {
   "cell_type": "markdown",
   "metadata": {},
   "source": [
    "<hr>"
   ]
  },
  {
   "cell_type": "markdown",
   "metadata": {},
   "source": [
    "## Data Analysis"
   ]
  },
  {
   "cell_type": "code",
   "execution_count": 3,
   "metadata": {},
   "outputs": [
    {
     "name": "stdout",
     "output_type": "stream",
     "text": [
      "year                       0.943884\n",
      "per capita income (US$)    1.000000\n",
      "Name: per capita income (US$), dtype: float64\n"
     ]
    },
    {
     "data": {
      "image/png": "[encoded data removed]",
      "text/plain": [
       "<Figure size 504x288 with 2 Axes>"
      ]
     },
     "metadata": {
      "needs_background": "light"
     },
     "output_type": "display_data"
    }
   ],
   "source": [
    "print(df.corr()['per capita income (US$)'].sort_values())\n",
    "\n",
    "# Using Pearson Correlation\n",
    "plt.figure(figsize=(7,4))\n",
    "cor = df.corr()\n",
    "sns.heatmap(cor, annot=True, cmap=plt.cm.Reds)\n",
    "plt.show()"
   ]
  },
  {
   "cell_type": "markdown",
   "metadata": {},
   "source": [
    "#### There is a high correlation between 'year' and 'per capita income (US$)'"
   ]
  },
  {
   "cell_type": "code",
   "execution_count": 4,
   "metadata": {},
   "outputs": [
    {
     "data": {
      "text/plain": [
       "[<matplotlib.lines.Line2D at 0x122801ee0>]"
      ]
     },
     "execution_count": 4,
     "metadata": {},
     "output_type": "execute_result"
    },
    {
     "data": {
      "image/png": "[encoded data removed]",
      "text/plain": [
       "<Figure size 432x288 with 1 Axes>"
      ]
     },
     "metadata": {
      "needs_background": "light"
     },
     "output_type": "display_data"
    }
   ],
   "source": [
    "plt.plot(df[['year']], df[['per capita income (US$)']], color='k', linestyle='--')"
   ]
  },
  {
   "cell_type": "markdown",
   "metadata": {},
   "source": [
    "<hr>\n",
    "\n",
    "## Creating Model"
   ]
  },
  {
   "cell_type": "markdown",
   "metadata": {},
   "source": [
    "#### Splitting the dataset"
   ]
  },
  {
   "cell_type": "markdown",
   "metadata": {},
   "source": [
    "Since per capita income (US$) is increasing slowly in the beginning and between 2000 and 2010 it increased rapidly, so we have to suffle the dataset so that we can get increasing trend of per capita income correctly."
   ]
  },
  {
   "cell_type": "code",
   "execution_count": 5,
   "metadata": {},
   "outputs": [],
   "source": [
    "# Shuffling the dataset\n",
    "df = df.sample(frac=1, random_state=3)"
   ]
  },
  {
   "cell_type": "code",
   "execution_count": 6,
   "metadata": {},
   "outputs": [],
   "source": [
    "_feature = 'year'\n",
    "_target = 'per capita income (US$)'\n",
    "\n",
    "train_dataset = df[:35]\n",
    "X_train = np.array(train_dataset[_feature]).reshape(-1, 1)\n",
    "ones = np.array([1 for _ in range(len(X_train))]).reshape(-1, 1) \n",
    "X_train = np.concatenate([ones, X_train], axis=1)\n",
    "\n",
    "y_train = np.array(train_dataset[_target]).reshape(-1, 1)\n",
    "\n",
    "test_dataset = df[36:47]\n",
    "X_test = np.array(test_dataset[_feature]).reshape(-1, 1)\n",
    "ones = np.array([1 for _ in range(len(X_test))]).reshape(-1, 1) \n",
    "X_test = np.concatenate([ones, X_test], axis=1)\n",
    "\n",
    "y_test = np.array(test_dataset[_target]).reshape(-1, 1)"
   ]
  },
  {
   "cell_type": "markdown",
   "metadata": {},
   "source": [
    "#### Feature Scaling"
   ]
  },
  {
   "cell_type": "code",
   "execution_count": 7,
   "metadata": {},
   "outputs": [],
   "source": [
    "def _normalize(X):\n",
    "    # Not normalizing 1's (constant term)\n",
    "    X_ones = np.ones((len(X), 1)).reshape(1, -1)\n",
    "    X = X[:, 1:]\n",
    "    \n",
    "    # Calculating mean along each column(axis=0)\n",
    "    _mean = np.mean(X, axis=0)\n",
    "\n",
    "    # Calculating standard deviation along each column(axis=0)\n",
    "    _std = np.std(X, axis=0)\n",
    "\n",
    "    # Calculating Z-score\n",
    "    z_score = np.divide((X - _mean), _std)\n",
    "    \n",
    "    X = np.concatenate((X_ones.T, z_score), axis=1)\n",
    "    \n",
    "    return X\n",
    "\n",
    "X_train = _normalize(X_train)\n",
    "X_test = _normalize(X_test)"
   ]
  },
  {
   "cell_type": "code",
   "execution_count": 8,
   "metadata": {},
   "outputs": [
    {
     "data": {
      "text/plain": [
       "array([[ 1.        ,  0.86063578],\n",
       "       [ 1.        ,  1.53334117],\n",
       "       [ 1.        , -0.41002995],\n",
       "       [ 1.        , -0.03630474],\n",
       "       [ 1.        ,  0.26267544]])"
      ]
     },
     "execution_count": 8,
     "metadata": {},
     "output_type": "execute_result"
    }
   ],
   "source": [
    "X_train[:5]"
   ]
  },
  {
   "cell_type": "markdown",
   "metadata": {},
   "source": [
    "#### Hypothesis"
   ]
  },
  {
   "cell_type": "code",
   "execution_count": 9,
   "metadata": {},
   "outputs": [],
   "source": [
    "def hypothesis(X, theta):\n",
    "    return np.matmul(X, theta)"
   ]
  },
  {
   "cell_type": "markdown",
   "metadata": {},
   "source": [
    "#### Cost Function"
   ]
  },
  {
   "cell_type": "code",
   "execution_count": 10,
   "metadata": {},
   "outputs": [],
   "source": [
    "def cost(X, y, theta):\n",
    "    # Lenght of our samples set, X\n",
    "    m = len(X)\n",
    "    h = hypothesis(X, theta)\n",
    "\n",
    "    # mean-square-error\n",
    "    sqr_error = (h - y) ** 2\n",
    "\n",
    "    # Cost\n",
    "    J = (1 / (2 * m)) * sum(sqr_error)[0]\n",
    "    return J"
   ]
  },
  {
   "cell_type": "markdown",
   "metadata": {},
   "source": [
    "#### Gradient Descent"
   ]
  },
  {
   "cell_type": "code",
   "execution_count": 11,
   "metadata": {},
   "outputs": [],
   "source": [
    "def gradient_descent(X, y, theta, alpha, _lambda, num_of_iters):\n",
    "    # Lenght of our samples set, X\n",
    "    m = len(X)\n",
    "\n",
    "    # Initializing column vector, J_history where all elements assigned to 0,\n",
    "    # while iterating we will fill these values with those iterations cost function's value\n",
    "    J_history = np.zeros((num_of_iters, 1))\n",
    "\n",
    "    # Gradient Descent Algorithm Implementation\n",
    "    for i in range(num_of_iters):\n",
    "        h = hypothesis(X, theta)\n",
    "\n",
    "        # Regularization parameter\n",
    "        regularization_param = 1 - alpha * _lambda / m\n",
    "\n",
    "        # Regularizing all coefficients. This vectorized version of gradient descent\n",
    "        tmp_1 = theta * regularization_param - ((alpha / m) * (np.matmul((h - y).T, X)).T)\n",
    "\n",
    "        # We should NOT regularize the parameter theta_zero\n",
    "        tmp_2 = theta[0] - ((alpha / m) * (np.matmul((h - y).T, X[:, 0])).T)\n",
    "\n",
    "        theta = tmp_1\n",
    "        theta[0] = tmp_2\n",
    "\n",
    "        J_history[i] = cost(X, y, theta)\n",
    "\n",
    "    return (theta, J_history)"
   ]
  },
  {
   "cell_type": "markdown",
   "metadata": {},
   "source": [
    "#### Normal Equation"
   ]
  },
  {
   "cell_type": "code",
   "execution_count": 12,
   "metadata": {},
   "outputs": [],
   "source": [
    "def normal_equation(X, y, _lambda):\n",
    "    # Number of rows\n",
    "    n = len(X[0])\n",
    "\n",
    "    # Creating a identity matrix whose 0th row's 0th element is 0\n",
    "    L = np.identity(n)\n",
    "    L[0][0] = 0\n",
    "\n",
    "    # Regularization parameter\n",
    "    regularization_param = _lambda * L\n",
    "\n",
    "    # Matrix multiplication of X transpose and y\n",
    "    a = np.matmul(X.T, y)\n",
    "\n",
    "    # Matrix multiplication of X transpose and X\n",
    "    b = np.matmul(X.T, X)\n",
    "\n",
    "    # Adding the regularization parameter\n",
    "    c = b + regularization_param\n",
    "\n",
    "    # Taking inverse of matrix b\n",
    "    d = np.linalg.pinv(c)\n",
    "\n",
    "    # Matrix multiplication of c transpose and a\n",
    "    theta = np.matmul(d, a)\n",
    "\n",
    "    return theta"
   ]
  },
  {
   "cell_type": "markdown",
   "metadata": {},
   "source": [
    "#### Using Gradient Descent to get best parameters"
   ]
  },
  {
   "cell_type": "code",
   "execution_count": 13,
   "metadata": {
    "scrolled": true
   },
   "outputs": [
    {
     "name": "stdout",
     "output_type": "stream",
     "text": [
      "Coefficient:  [[10890.83448823]]\n",
      "Intercept:  [18918.97339634]\n",
      "\n",
      "0 [66654583.85182209]\n",
      "1 [21979156.94282467]\n",
      "2 [10810300.21557534]\n",
      "3 [8018086.03376301]\n",
      "4 [7320032.48830994]\n",
      "5 [7145519.10194667]\n",
      "6 [7101890.75535585]\n",
      "7 [7090983.66870815]\n",
      "8 [7088256.89704622]\n",
      "9 [7087575.20413074]\n",
      "10 [7087404.78090187]\n",
      "11 [7087362.17509465]\n",
      "12 [7087351.52364285]\n",
      "13 [7087348.8607799]\n",
      "14 [7087348.19506416]\n",
      "15 [7087348.02863522]\n",
      "16 [7087347.98702799]\n",
      "17 [7087347.97662618]\n",
      "18 [7087347.97402573]\n",
      "19 [7087347.97337562]\n",
      "20 [7087347.97321309]\n",
      "21 [7087347.97317246]\n",
      "22 [7087347.9731623]\n",
      "23 [7087347.97315976]\n"
     ]
    }
   ],
   "source": [
    "theta = np.array([[0], [0]])\n",
    "\n",
    "alpha = 0.5\n",
    "_lambda = 0\n",
    "num_of_iters = 24\n",
    "\n",
    "theta, J_train_history = gradient_descent(X_train, y_train, theta, alpha, _lambda, num_of_iters)\n",
    "\n",
    "coefficient = theta[1:]\n",
    "intercept = theta[0]\n",
    "\n",
    "print(\"Coefficient: \", coefficient)\n",
    "print(\"Intercept: \", intercept)\n",
    "\n",
    "print()\n",
    "\n",
    "for idx, cost in enumerate(J_train_history):\n",
    "    print(idx, cost)"
   ]
  },
  {
   "cell_type": "markdown",
   "metadata": {},
   "source": [
    "#### Using Normal Equation to get best parameters"
   ]
  },
  {
   "cell_type": "code",
   "execution_count": 14,
   "metadata": {},
   "outputs": [
    {
     "name": "stdout",
     "output_type": "stream",
     "text": [
      "Coefficient:  [[10890.83513738]]\n",
      "Intercept:  [18918.974524]\n"
     ]
    }
   ],
   "source": [
    "_lambda = 0\n",
    "norm_eq_theta = normal_equation(X_train, y_train, _lambda)\n",
    "\n",
    "print(\"Coefficient: \", norm_eq_theta[1:])\n",
    "print(\"Intercept: \", norm_eq_theta[0])"
   ]
  },
  {
   "cell_type": "markdown",
   "metadata": {},
   "source": [
    "#### Optimal Parameters"
   ]
  },
  {
   "cell_type": "code",
   "execution_count": 15,
   "metadata": {},
   "outputs": [
    {
     "name": "stdout",
     "output_type": "stream",
     "text": [
      "Coefficient:  [[10890.83448823]]\n",
      "Intercept:  [18918.97339634]\n"
     ]
    }
   ],
   "source": [
    "print(\"Coefficient: \", coefficient)\n",
    "print(\"Intercept: \", intercept)"
   ]
  },
  {
   "cell_type": "code",
   "execution_count": 16,
   "metadata": {},
   "outputs": [
    {
     "data": {
      "text/plain": [
       "[<matplotlib.lines.Line2D at 0x1228ee070>]"
      ]
     },
     "execution_count": 16,
     "metadata": {},
     "output_type": "execute_result"
    },
    {
     "data": {
      "image/png": "[encoded data removed]",
      "text/plain": [
       "<Figure size 432x288 with 1 Axes>"
      ]
     },
     "metadata": {
      "needs_background": "light"
     },
     "output_type": "display_data"
    }
   ],
   "source": [
    "X = np.array([X_train[i][1] for i in range(len(X_train))]).reshape(-1, 1)\n",
    "\n",
    "plt.scatter(X, y_train,  color='blue')\n",
    "plt.plot(X, coefficient*X + intercept, '-r')"
   ]
  },
  {
   "cell_type": "markdown",
   "metadata": {},
   "source": [
    "#### Plotting the cost function history"
   ]
  },
  {
   "cell_type": "code",
   "execution_count": 17,
   "metadata": {},
   "outputs": [
    {
     "data": {
      "text/plain": [
       "[<matplotlib.lines.Line2D at 0x12299c190>]"
      ]
     },
     "execution_count": 17,
     "metadata": {},
     "output_type": "execute_result"
    },
    {
     "data": {
      "image/png": "[encoded data removed]",
      "text/plain": [
       "<Figure size 432x288 with 1 Axes>"
      ]
     },
     "metadata": {
      "needs_background": "light"
     },
     "output_type": "display_data"
    }
   ],
   "source": [
    "_size = [i for i in range(1, 25)]\n",
    "plt.plot(_size, J_train_history)"
   ]
  },
  {
   "cell_type": "markdown",
   "metadata": {},
   "source": [
    "#### Predicting"
   ]
  },
  {
   "cell_type": "code",
   "execution_count": 18,
   "metadata": {
    "scrolled": true
   },
   "outputs": [
    {
     "data": {
      "text/plain": [
       "array([[26576.30400518],\n",
       "       [33284.93878637],\n",
       "       [31794.13105722],\n",
       "       [10177.41898448],\n",
       "       [16886.05376568],\n",
       "       [18376.86149483],\n",
       "       [ 2723.38033871],\n",
       "       [ 8686.61125533],\n",
       "       [ 4959.59193244],\n",
       "       [20613.07308856],\n",
       "       [34030.34265095]])"
      ]
     },
     "execution_count": 18,
     "metadata": {},
     "output_type": "execute_result"
    }
   ],
   "source": [
    "y_test_pred = hypothesis(X_test, theta)\n",
    "y_test_pred"
   ]
  },
  {
   "cell_type": "code",
   "execution_count": 19,
   "metadata": {
    "scrolled": true
   },
   "outputs": [
    {
     "data": {
      "text/plain": [
       "array([[19232.17556 ],\n",
       "       [42334.71121 ],\n",
       "       [32755.17682 ],\n",
       "       [ 8355.96812 ],\n",
       "       [16426.72548 ],\n",
       "       [17266.09769 ],\n",
       "       [ 3399.299037],\n",
       "       [ 7247.967035],\n",
       "       [ 4804.463248],\n",
       "       [15755.82027 ],\n",
       "       [42665.25597 ]])"
      ]
     },
     "execution_count": 19,
     "metadata": {},
     "output_type": "execute_result"
    }
   ],
   "source": [
    "y_test"
   ]
  },
  {
   "cell_type": "markdown",
   "metadata": {},
   "source": [
    "#### Evaluating Model"
   ]
  },
  {
   "cell_type": "code",
   "execution_count": 20,
   "metadata": {},
   "outputs": [],
   "source": [
    "from sklearn.metrics import mean_squared_error, r2_score"
   ]
  },
  {
   "cell_type": "code",
   "execution_count": 21,
   "metadata": {},
   "outputs": [
    {
     "name": "stdout",
     "output_type": "stream",
     "text": [
      "Root mean squared error: 4692.604777847343\n",
      "R2-score: 0.8794970759997227\n"
     ]
    }
   ],
   "source": [
    "# *** Out-Of-Sample Forecast ***\n",
    "\n",
    "# To see how our model performs on data that model has NOT seen\n",
    "\n",
    "rms_error = mean_squared_error(y_test, y_test_pred, squared=False)\n",
    "r2_score_value = r2_score(y_test, y_test_pred)\n",
    "\n",
    "print(f\"Root mean squared error: {rms_error}\")\n",
    "print(f\"R2-score: {r2_score_value}\")"
   ]
  },
  {
   "cell_type": "markdown",
   "metadata": {},
   "source": [
    "#### Visualizing our prediction against actual values"
   ]
  },
  {
   "cell_type": "code",
   "execution_count": 22,
   "metadata": {},
   "outputs": [
    {
     "data": {
      "text/plain": [
       "<matplotlib.legend.Legend at 0x122e03490>"
      ]
     },
     "execution_count": 22,
     "metadata": {},
     "output_type": "execute_result"
    },
    {
     "data": {
      "image/png": "[encoded data removed]",
      "text/plain": [
       "<Figure size 936x360 with 2 Axes>"
      ]
     },
     "metadata": {
      "needs_background": "light"
     },
     "output_type": "display_data"
    },
    {
     "data": {
      "image/png": "[encoded data removed]",
      "text/plain": [
       "<Figure size 936x360 with 1 Axes>"
      ]
     },
     "metadata": {
      "needs_background": "light"
     },
     "output_type": "display_data"
    }
   ],
   "source": [
    "f, (ax1, ax2) = plt.subplots(nrows=1, ncols=2, figsize=(13, 5))\n",
    "\n",
    "ax1.plot(np.arange(len(y_test)), y_test, label='Actual')\n",
    "ax2.plot(np.arange(len(y_test_pred)), y_test_pred, label='Prediction')\n",
    "\n",
    "ax1.legend()\n",
    "ax2.legend()\n",
    "\n",
    "f, ax3 = plt.subplots(nrows=1, ncols=1, figsize=(13, 5))\n",
    "\n",
    "ax3.plot(np.arange(len(y_test)), y_test, label='Actual')\n",
    "ax3.plot(np.arange(len(y_test_pred)), y_test_pred, label='Prediction')\n",
    "\n",
    "ax3.legend()"
   ]
  },
  {
   "cell_type": "markdown",
   "metadata": {},
   "source": [
    "<hr>"
   ]
  },
  {
   "cell_type": "code",
   "execution_count": null,
   "metadata": {},
   "outputs": [],
   "source": []
  }
 ],
 "metadata": {
  "kernelspec": {
   "display_name": "Python 3.8.1 64-bit",
   "language": "python",
   "name": "python38164bit9a8e3b63a08644a087459c5617ed8408"
  },
  "language_info": {
   "codemirror_mode": {
    "name": "ipython",
    "version": 3
   },
   "file_extension": ".py",
   "mimetype": "text/x-python",
   "name": "python",
   "nbconvert_exporter": "python",
   "pygments_lexer": "ipython3",
   "version": "3.8.1"
  }
 },
 "nbformat": 4,
 "nbformat_minor": 4
}
